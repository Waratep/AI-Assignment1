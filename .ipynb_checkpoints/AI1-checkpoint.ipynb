{
 "cells": [
  {
   "cell_type": "code",
   "execution_count": 2,
   "metadata": {},
   "outputs": [],
   "source": [
    "map = [[1,1,1,1,0,1,1,1,1,1,1,1],\n",
    "        [1,0,0,0,0,0,1,0,0,0,0,1],\n",
    "        [1,0,1,0,1,0,1,1,1,0,1,1],\n",
    "        [1,0,1,0,1,0,0,0,0,0,0,1],\n",
    "        [1,0,0,1,1,1,0,1,0,1,1,1],\n",
    "        [1,0,1,1,0,1,1,1,0,1,0,1],\n",
    "        [1,0,0,0,0,1,0,1,0,1,0,1],\n",
    "        [1,1,1,1,0,1,0,1,0,1,0,1],\n",
    "        [1,0,0,0,0,0,0,1,0,1,0,1],\n",
    "        [1,1,0,1,1,1,0,1,0,0,0,1],\n",
    "        [1,0,0,0,0,0,0,0,0,1,0,1],\n",
    "        [1,1,1,1,1,1,1,1,1,1,1,1]]"
   ]
  },
  {
   "cell_type": "code",
   "execution_count": 49,
   "metadata": {},
   "outputs": [],
   "source": [
    "l=121"
   ]
  },
  {
   "cell_type": "code",
   "execution_count": 178,
   "metadata": {},
   "outputs": [],
   "source": [
    "class Node:\n",
    "    def __init__(self, data ,left = None ,right = None,forward = None):\n",
    "        self.data = data\n",
    "        self.left = left\n",
    "        self.right = right\n",
    "        self.forward = forward\n",
    "        \n",
    "def addData(r,data):\n",
    "    if r is None:\n",
    "        return Node(data)\n",
    "    else:\n",
    "        if data[0] < r.data[0] :\n",
    "            r.forward = addData(r.forward,data)             \n",
    "        elif data[1] < r.data[1]:\n",
    "            r.left = addData(r.left,data) \n",
    "        else:\n",
    "            r.right = addData(r.right,data)\n",
    "        return r\n",
    "\n",
    "# def printSideway(r,level = 0):\n",
    "\n",
    "#     if r:\n",
    "#         printSideway(r.right,level+1)\n",
    "#         print('   '*level,r.data,end='') \n",
    "#         printSideway(r.forward,level+1)\n",
    "#         if r.forward :\n",
    "#             print('',end='')\n",
    "#         else:\n",
    "#             print('') \n",
    "# #         print('   '*level,r.forward.data,sep = ' ')              \n",
    "#         printSideway(r.left,level+1)\n",
    "        \n",
    "def preOrder(r,level):\n",
    "    if r:  \n",
    "        if level == 1:\n",
    "            print(r.data, end = ' ')\n",
    "        else:\n",
    "            preOrder(r.left)\n",
    "            preOrder(r.forward)\n",
    "            preOrder(r.right)\n",
    "            \n",
    "def printLevelsRecursively(root) {\n",
    "        int height = heightOfTree(root);\n",
    "\n",
    "        for (int i = 1; i <= height; i++):\n",
    "            print(\"Level \" + i + \" : \");\n",
    "            printSingleLevelRecursively(root, i);\n",
    "            println();\n",
    "\n",
    "        \n",
    "    }\n",
    "\n",
    "    heightOfTree(root) {\n",
    "        if (root == null) {\n",
    "            return 0;\n",
    "        }\n",
    "\n",
    "        int leftHeight = heightOfTree(root.left);\n",
    "        int forwardHeight = heightOfTree(root.forward);\n",
    "        int rightHeight = heightOfTree(root.right);\n",
    "\n",
    "        return Math.max(leftHeight, rightHeight) + 1;\n",
    "    }\n",
    "\n",
    "    private static void printSingleLevelRecursively(TreeNode root, int level) {\n",
    "        if (root == null)\n",
    "            return;\n",
    "\n",
    "        if (level == 1) {\n",
    "            System.out.print(root.data + \" \");\n",
    "        } else if (level > 1) {\n",
    "            printSingleLevelRecursively(root.left, level - 1);\n",
    "            printSingleLevelRecursively(root.right, level - 1);\n",
    "        }\n",
    "    }\n",
    "   "
   ]
  },
  {
   "cell_type": "code",
   "execution_count": 180,
   "metadata": {},
   "outputs": [
    {
     "ename": "TypeError",
     "evalue": "preOrder() missing 1 required positional argument: 'level'",
     "output_type": "error",
     "traceback": [
      "\u001b[1;31m---------------------------------------------------------------------------\u001b[0m",
      "\u001b[1;31mTypeError\u001b[0m                                 Traceback (most recent call last)",
      "\u001b[1;32m<ipython-input-180-c615f5963e9e>\u001b[0m in \u001b[0;36m<module>\u001b[1;34m()\u001b[0m\n\u001b[0;32m     13\u001b[0m \u001b[0maddData\u001b[0m\u001b[1;33m(\u001b[0m\u001b[0mr\u001b[0m\u001b[1;33m,\u001b[0m\u001b[1;33m(\u001b[0m\u001b[1;36m10\u001b[0m\u001b[1;33m,\u001b[0m\u001b[1;36m11\u001b[0m\u001b[1;33m)\u001b[0m\u001b[1;33m)\u001b[0m\u001b[1;33m\u001b[0m\u001b[0m\n\u001b[0;32m     14\u001b[0m \u001b[0maddData\u001b[0m\u001b[1;33m(\u001b[0m\u001b[0mr\u001b[0m\u001b[1;33m,\u001b[0m\u001b[1;33m(\u001b[0m\u001b[1;36m10\u001b[0m\u001b[1;33m,\u001b[0m\u001b[1;36m9\u001b[0m\u001b[1;33m)\u001b[0m\u001b[1;33m)\u001b[0m\u001b[1;33m\u001b[0m\u001b[0m\n\u001b[1;32m---> 15\u001b[1;33m \u001b[0mpreOrder\u001b[0m\u001b[1;33m(\u001b[0m\u001b[0mr\u001b[0m\u001b[1;33m,\u001b[0m\u001b[1;36m2\u001b[0m\u001b[1;33m)\u001b[0m\u001b[1;33m\u001b[0m\u001b[0m\n\u001b[0m",
      "\u001b[1;32m<ipython-input-178-8ccb075018a9>\u001b[0m in \u001b[0;36mpreOrder\u001b[1;34m(r, level)\u001b[0m\n\u001b[0;32m     36\u001b[0m             \u001b[0mprint\u001b[0m\u001b[1;33m(\u001b[0m\u001b[0mr\u001b[0m\u001b[1;33m.\u001b[0m\u001b[0mdata\u001b[0m\u001b[1;33m,\u001b[0m \u001b[0mend\u001b[0m \u001b[1;33m=\u001b[0m \u001b[1;34m' '\u001b[0m\u001b[1;33m)\u001b[0m\u001b[1;33m\u001b[0m\u001b[0m\n\u001b[0;32m     37\u001b[0m         \u001b[1;32melse\u001b[0m\u001b[1;33m:\u001b[0m\u001b[1;33m\u001b[0m\u001b[0m\n\u001b[1;32m---> 38\u001b[1;33m             \u001b[0mpreOrder\u001b[0m\u001b[1;33m(\u001b[0m\u001b[0mr\u001b[0m\u001b[1;33m.\u001b[0m\u001b[0mleft\u001b[0m\u001b[1;33m)\u001b[0m\u001b[1;33m\u001b[0m\u001b[0m\n\u001b[0m\u001b[0;32m     39\u001b[0m             \u001b[0mpreOrder\u001b[0m\u001b[1;33m(\u001b[0m\u001b[0mr\u001b[0m\u001b[1;33m.\u001b[0m\u001b[0mforward\u001b[0m\u001b[1;33m)\u001b[0m\u001b[1;33m\u001b[0m\u001b[0m\n\u001b[0;32m     40\u001b[0m             \u001b[0mpreOrder\u001b[0m\u001b[1;33m(\u001b[0m\u001b[0mr\u001b[0m\u001b[1;33m.\u001b[0m\u001b[0mright\u001b[0m\u001b[1;33m)\u001b[0m\u001b[1;33m\u001b[0m\u001b[0m\n",
      "\u001b[1;31mTypeError\u001b[0m: preOrder() missing 1 required positional argument: 'level'"
     ]
    }
   ],
   "source": [
    "start = (10,10)\n",
    "\n",
    "r = Node(start)\n",
    "\n",
    "# if(map[start[0]-1][start[1]] != 1):\n",
    "#     print(map[start[0]-1][start[1]])\n",
    "\n",
    "\n",
    "addData(r,(8,10))\n",
    "# addData(r,(7,10))\n",
    "# addData(r,(6,10))\n",
    "addData(r,(9,10)) #forward\n",
    "addData(r,(10,11))\n",
    "addData(r,(10,9))\n",
    "preOrder(r,2)\n",
    "\n"
   ]
  },
  {
   "cell_type": "code",
   "execution_count": null,
   "metadata": {},
   "outputs": [],
   "source": []
  },
  {
   "cell_type": "code",
   "execution_count": null,
   "metadata": {},
   "outputs": [],
   "source": []
  }
 ],
 "metadata": {
  "kernelspec": {
   "display_name": "Python 3",
   "language": "python",
   "name": "python3"
  },
  "language_info": {
   "codemirror_mode": {
    "name": "ipython",
    "version": 3
   },
   "file_extension": ".py",
   "mimetype": "text/x-python",
   "name": "python",
   "nbconvert_exporter": "python",
   "pygments_lexer": "ipython3",
   "version": "3.6.5"
  }
 },
 "nbformat": 4,
 "nbformat_minor": 2
}
