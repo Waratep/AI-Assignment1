{
 "cells": [
  {
   "cell_type": "code",
   "execution_count": 380,
   "metadata": {},
   "outputs": [],
   "source": [
    "       # 0 1 2 3 4 5 6 7 8 9 10 11\n",
    "map1 = [[1,1,1,1,1,1,1,1,1,1,1,1], # 0\n",
    "        [1,0,0,0,0,0,1,0,0,0,0,1], # 1\n",
    "        [1,0,1,0,1,0,1,1,1,0,1,1], # 2\n",
    "        [1,0,1,0,1,0,0,0,0,0,0,1], # 3\n",
    "        [1,0,0,1,1,1,0,1,0,1,1,1], # 4\n",
    "        [1,0,1,1,0,1,1,1,0,1,0,1], # 5\n",
    "        [1,0,0,0,0,1,0,1,0,1,0,1], # 6\n",
    "        [1,1,1,1,0,1,0,1,0,1,0,1], # 7\n",
    "        [1,0,0,0,0,0,0,1,0,1,0,1], # 8\n",
    "        [1,1,0,1,1,1,0,1,0,0,0,1], # 9\n",
    "        [1,0,0,0,0,0,0,0,0,1,0,1], # 10\n",
    "        [1,1,1,1,1,1,1,1,1,1,1,1]] # 11"
   ]
  },
  {
   "cell_type": "code",
   "execution_count": 381,
   "metadata": {},
   "outputs": [],
   "source": [
    "def checkwall(map1,current):\n",
    "    x=current[0]\n",
    "    y=current[1]\n",
    "    if(map1[x][y] != 1):\n",
    "        return True\n",
    "    return False"
   ]
  },
  {
   "cell_type": "code",
   "execution_count": 378,
   "metadata": {},
   "outputs": [],
   "source": [
    "def dfs_paths(graph, start, goal):\n",
    "    \n",
    "    stack = [(start, [start])]\n",
    "    while stack:\n",
    "        (vertex, path) = stack.pop()\n",
    "        for next in graph[vertex] - set(path):\n",
    "            if next == goal:\n",
    "                yield path + [next]\n",
    "                \n",
    "            else:\n",
    "                stack.append((next, path + [next]))\n",
    "\n"
   ]
  },
  {
   "cell_type": "code",
   "execution_count": 382,
   "metadata": {},
   "outputs": [
    {
     "name": "stdout",
     "output_type": "stream",
     "text": [
      "level 18\n"
     ]
    }
   ],
   "source": [
    "buffer=[]\n",
    "next_current = []\n",
    "current = (10,10)\n",
    "graph={}\n",
    "graph[current]=set()\n",
    "\n",
    "next_current.append(current)\n",
    "limit = 20\n",
    "level = 0\n",
    "start = (10,10)\n",
    "end = (1,1)\n",
    "while(level<limit):\n",
    "#     print(\"level:\",level,\" \",\"limit:\",limit)\n",
    "    if list(dfs_paths(graph, start, end)) != [] : \n",
    "        print('fined path from start to end')\n",
    "        print(list(dfs_paths(graph, start, end)))\n",
    "        break\n",
    "    for current in next_current:\n",
    "#         print('*current:',current)\n",
    "        x=current[0]\n",
    "        y=current[1]\n",
    "        array = [(x,y-1),(x,y+1),(x-1,y),(x+1,y)]\n",
    "        for i in range (len(array)):            \n",
    "            if checkwall(map1,array[i]):\n",
    "                if array[i] not in graph:\n",
    "                    graph[array[i]]=set()\n",
    "                graph[current].add(array[i])\n",
    "                buffer.append(array[i])\n",
    "\n",
    "    next_current = buffer\n",
    "    buffer = []\n",
    "#     print(\"next_current:\", next_current)\n",
    "#     print(\"graph:\",graph)\n",
    "#     for keys,values in graph.items():\n",
    "#         print('keys: ',keys)\n",
    "#         print('values: ',values)\n",
    "    level += 1\n",
    "#     print('')\n",
    "#     print('')\n",
    "print('level',level)\n"
   ]
  },
  {
   "cell_type": "code",
   "execution_count": null,
   "metadata": {},
   "outputs": [],
   "source": []
  },
  {
   "cell_type": "code",
   "execution_count": 339,
   "metadata": {},
   "outputs": [],
   "source": [
    "import numpy as np\n",
    "import matplotlib.pyplot as plt\n",
    "\n",
    "def printMap(map1):\n",
    "    # fig, ax = plt.subplots()\n",
    "    min_val, max_val = 0, 12\n",
    "    for i in range(12):\n",
    "        for j in range(12):\n",
    "            c = map1[i][j]\n",
    "    #         ax.text(i+0.5, j+0.5, str(c), va='center', ha='center')\n",
    "    plt.figure()\n",
    "    plt.matshow(map1, cmap=plt.cm.Blues)\n",
    "    # ax.set_xlim(min_val, max_val)\n",
    "    # ax.set_ylim(min_val, max_val)\n",
    "    # ax.set_xticks(np.arange(max_val))\n",
    "    # ax.set_yticks(np.arange(max_val))\n",
    "    # ax.grid()"
   ]
  },
  {
   "cell_type": "code",
   "execution_count": 340,
   "metadata": {},
   "outputs": [
    {
     "data": {
      "text/plain": [
       "<Figure size 432x288 with 0 Axes>"
      ]
     },
     "metadata": {},
     "output_type": "display_data"
    },
    {
     "data": {
      "image/png": "[encoded data removed]",
      "text/plain": [
       "<Figure size 288x288 with 1 Axes>"
      ]
     },
     "metadata": {},
     "output_type": "display_data"
    }
   ],
   "source": [
    "printMap(map1)"
   ]
  },
  {
   "cell_type": "code",
   "execution_count": null,
   "metadata": {},
   "outputs": [],
   "source": []
  }
 ],
 "metadata": {
  "kernelspec": {
   "display_name": "Python 3",
   "language": "python",
   "name": "python3"
  },
  "language_info": {
   "codemirror_mode": {
    "name": "ipython",
    "version": 3
   },
   "file_extension": ".py",
   "mimetype": "text/x-python",
   "name": "python",
   "nbconvert_exporter": "python",
   "pygments_lexer": "ipython3",
   "version": "3.6.5"
  }
 },
 "nbformat": 4,
 "nbformat_minor": 2
}
