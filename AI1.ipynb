{
 "cells": [
  {
   "cell_type": "code",
   "execution_count": 2,
   "metadata": {},
   "outputs": [],
   "source": [
    "map = [[1,1,1,1,0,1,1,1,1,1,1,1],\n",
    "        [1,0,0,0,0,0,1,0,0,0,0,1],\n",
    "        [1,0,1,0,1,0,1,1,1,0,1,1],\n",
    "        [1,0,1,0,1,0,0,0,0,0,0,1],\n",
    "        [1,0,0,1,1,1,0,1,0,1,1,1],\n",
    "        [1,0,1,1,0,1,1,1,0,1,0,1],\n",
    "        [1,0,0,0,0,1,0,1,0,1,0,1],\n",
    "        [1,1,1,1,0,1,0,1,0,1,0,1],\n",
    "        [1,0,0,0,0,0,0,1,0,1,0,1],\n",
    "        [1,1,0,1,1,1,0,1,0,0,0,1],\n",
    "        [1,0,0,0,0,0,0,0,0,1,0,1],\n",
    "        [1,1,1,1,1,1,1,1,1,1,1,1]]"
   ]
  },
  {
   "cell_type": "code",
   "execution_count": 3,
   "metadata": {},
   "outputs": [],
   "source": [
    "l=121"
   ]
  },
  {
   "cell_type": "code",
   "execution_count": 4,
   "metadata": {},
   "outputs": [],
   "source": [
    "class Node:\n",
    "    def __init__(self, data,left = None ,right = None,forward = None,bottom=None):\n",
    "        self.data = data\n",
    "        self.left = left\n",
    "        self.right = right\n",
    "        self.forward = forward\n",
    "        self.bottom = bottom\n",
    "        \n",
    "def addData(r,data):\n",
    "    if r is None:\n",
    "        return Node(data)\n",
    "    else:\n",
    "        \n",
    "        if r.data != data:\n",
    "            if data[0] < r.data[0] :\n",
    "                r.forward = addData(r.forward,data)             \n",
    "            elif data[1] < r.data[1]:\n",
    "                r.left = addData(r.left,data) \n",
    "            elif data[1] > r.data[1]:\n",
    "                r.right = addData(r.right,data) \n",
    "            else:\n",
    "                r.bottom = addData(r.bottom,data)       \n",
    "        \n",
    "        return r\n",
    "            \n",
    "def printLevelsRecursively(root) :\n",
    "        h = height(root);\n",
    "\n",
    "        for i in range (h):\n",
    "            print(\"Level \",i+1,\" : \",end=' ')\n",
    "            printSingleLevelRecursively(root, i+1)\n",
    "            print('')\n",
    "\n",
    "\n",
    "def height(r):\n",
    "    if r is None :\n",
    "        return 0\n",
    "    return max(height(r.left),height(r.forward),height(r.right))+1\n",
    "\n",
    "def printSingleLevelRecursively(root,level):\n",
    "    if root == None:\n",
    "        return;\n",
    "    if level == 1:\n",
    "        print(root.data,end=' ')\n",
    "    else:\n",
    "        printSingleLevelRecursively(root.left, level - 1)        \n",
    "        printSingleLevelRecursively(root.right, level - 1)\n",
    "        printSingleLevelRecursively(root.forward, level - 1)\n",
    "        printSingleLevelRecursively(root.bottom, level - 1)\n"
   ]
  },
  {
   "cell_type": "code",
   "execution_count": 5,
   "metadata": {},
   "outputs": [
    {
     "name": "stdout",
     "output_type": "stream",
     "text": [
      "Level  1  :  (10, 10) \n",
      "Level  2  :  (10, 9) (10, 11) (9, 10) (11, 10) \n"
     ]
    }
   ],
   "source": [
    "start = (10,10)\n",
    "goal = (1,1)\n",
    "r = Node(start)\n",
    "\n",
    "# addData(r,(7,10))\n",
    "# addData(r,(6,10))\n",
    "addData(r,(9,10)) #forward\n",
    "addData(r,(10,11)) #right\n",
    "addData(r,(10,9)) #left\n",
    "addData(r,(11,10)) #bottom\n",
    "addData(r,(10,10)) #parent\n",
    "addData(r,(10,9)) #left\n",
    "addData(r,(9,10)) #forward\n",
    "printLevelsRecursively(r)\n"
   ]
  },
  {
   "cell_type": "code",
   "execution_count": null,
   "metadata": {},
   "outputs": [],
   "source": []
  },
  {
   "cell_type": "code",
   "execution_count": null,
   "metadata": {},
   "outputs": [],
   "source": []
  }
 ],
 "metadata": {
  "kernelspec": {
   "display_name": "Python 3",
   "language": "python",
   "name": "python3"
  },
  "language_info": {
   "codemirror_mode": {
    "name": "ipython",
    "version": 3
   },
   "file_extension": ".py",
   "mimetype": "text/x-python",
   "name": "python",
   "nbconvert_exporter": "python",
   "pygments_lexer": "ipython3",
   "version": "3.6.5"
  }
 },
 "nbformat": 4,
 "nbformat_minor": 2
}
